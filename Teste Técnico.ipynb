{
 "cells": [
  {
   "cell_type": "code",
   "execution_count": 1,
   "id": "23664069",
   "metadata": {},
   "outputs": [],
   "source": [
    "import pandas as pd\n",
    "import numpy as np"
   ]
  },
  {
   "cell_type": "markdown",
   "id": "945e4bc4",
   "metadata": {},
   "source": [
    "## Licitações"
   ]
  },
  {
   "cell_type": "code",
   "execution_count": 2,
   "id": "a9d57e4e",
   "metadata": {},
   "outputs": [],
   "source": [
    "ANO = 2016"
   ]
  },
  {
   "cell_type": "code",
   "execution_count": 3,
   "id": "a16b85aa",
   "metadata": {},
   "outputs": [],
   "source": [
    "df_licitacao = pd.read_csv(f'{ANO}.csv/licitacao.csv',low_memory=False)\n",
    "df_itens = pd.read_csv(f'{ANO}.csv/item.csv',low_memory=False)"
   ]
  },
  {
   "cell_type": "markdown",
   "id": "ee7af81d",
   "metadata": {},
   "source": [
    "### Análise Exploratória"
   ]
  },
  {
   "cell_type": "code",
   "execution_count": 58,
   "id": "8d392e9f",
   "metadata": {},
   "outputs": [
    {
     "data": {
      "text/html": [
       "<div>\n",
       "<style scoped>\n",
       "    .dataframe tbody tr th:only-of-type {\n",
       "        vertical-align: middle;\n",
       "    }\n",
       "\n",
       "    .dataframe tbody tr th {\n",
       "        vertical-align: top;\n",
       "    }\n",
       "\n",
       "    .dataframe thead th {\n",
       "        text-align: right;\n",
       "    }\n",
       "</style>\n",
       "<table border=\"1\" class=\"dataframe\">\n",
       "  <thead>\n",
       "    <tr style=\"text-align: right;\">\n",
       "      <th></th>\n",
       "      <th>CD_ORGAO</th>\n",
       "      <th>NM_ORGAO</th>\n",
       "      <th>NR_LICITACAO</th>\n",
       "      <th>ANO_LICITACAO</th>\n",
       "      <th>CD_TIPO_MODALIDADE</th>\n",
       "      <th>NR_COMISSAO</th>\n",
       "      <th>ANO_COMISSAO</th>\n",
       "      <th>TP_COMISSAO</th>\n",
       "      <th>NR_PROCESSO</th>\n",
       "      <th>ANO_PROCESSO</th>\n",
       "      <th>...</th>\n",
       "      <th>TP_DOCUMENTO_FORNECEDOR</th>\n",
       "      <th>NR_DOCUMENTO_FORNECEDOR</th>\n",
       "      <th>TP_DOCUMENTO_VENCEDOR</th>\n",
       "      <th>NR_DOCUMENTO_VENCEDOR</th>\n",
       "      <th>VL_HOMOLOGADO</th>\n",
       "      <th>BL_GERA_DESPESA</th>\n",
       "      <th>DS_OBSERVACAO</th>\n",
       "      <th>PC_TX_ESTIMADA</th>\n",
       "      <th>PC_TX_HOMOLOGADA</th>\n",
       "      <th>BL_COMPARTILHADA</th>\n",
       "    </tr>\n",
       "  </thead>\n",
       "  <tbody>\n",
       "    <tr>\n",
       "      <th>0</th>\n",
       "      <td>84100</td>\n",
       "      <td>PM DE ESPERANÇA DO SUL</td>\n",
       "      <td>1.0</td>\n",
       "      <td>2016</td>\n",
       "      <td>CNV</td>\n",
       "      <td>12.0</td>\n",
       "      <td>2016.0</td>\n",
       "      <td>P</td>\n",
       "      <td>001</td>\n",
       "      <td>2016</td>\n",
       "      <td>...</td>\n",
       "      <td>NaN</td>\n",
       "      <td>NaN</td>\n",
       "      <td>J</td>\n",
       "      <td>6.233397e+12</td>\n",
       "      <td>6420.0</td>\n",
       "      <td>S</td>\n",
       "      <td>NaN</td>\n",
       "      <td>NaN</td>\n",
       "      <td>NaN</td>\n",
       "      <td>N</td>\n",
       "    </tr>\n",
       "    <tr>\n",
       "      <th>1</th>\n",
       "      <td>84100</td>\n",
       "      <td>PM DE ESPERANÇA DO SUL</td>\n",
       "      <td>4.0</td>\n",
       "      <td>2016</td>\n",
       "      <td>CNV</td>\n",
       "      <td>12.0</td>\n",
       "      <td>2016.0</td>\n",
       "      <td>P</td>\n",
       "      <td>003</td>\n",
       "      <td>2016</td>\n",
       "      <td>...</td>\n",
       "      <td>NaN</td>\n",
       "      <td>NaN</td>\n",
       "      <td>NaN</td>\n",
       "      <td>NaN</td>\n",
       "      <td>NaN</td>\n",
       "      <td>S</td>\n",
       "      <td>NaN</td>\n",
       "      <td>NaN</td>\n",
       "      <td>NaN</td>\n",
       "      <td>N</td>\n",
       "    </tr>\n",
       "    <tr>\n",
       "      <th>2</th>\n",
       "      <td>82701</td>\n",
       "      <td>CM DE XANGRI-LÁ</td>\n",
       "      <td>1.0</td>\n",
       "      <td>2016</td>\n",
       "      <td>PRP</td>\n",
       "      <td>12.0</td>\n",
       "      <td>2016.0</td>\n",
       "      <td>G</td>\n",
       "      <td>01</td>\n",
       "      <td>2016</td>\n",
       "      <td>...</td>\n",
       "      <td>NaN</td>\n",
       "      <td>NaN</td>\n",
       "      <td>NaN</td>\n",
       "      <td>NaN</td>\n",
       "      <td>NaN</td>\n",
       "      <td>S</td>\n",
       "      <td>NaN</td>\n",
       "      <td>NaN</td>\n",
       "      <td>NaN</td>\n",
       "      <td>N</td>\n",
       "    </tr>\n",
       "    <tr>\n",
       "      <th>3</th>\n",
       "      <td>84100</td>\n",
       "      <td>PM DE ESPERANÇA DO SUL</td>\n",
       "      <td>6.0</td>\n",
       "      <td>2016</td>\n",
       "      <td>CNV</td>\n",
       "      <td>12.0</td>\n",
       "      <td>2016.0</td>\n",
       "      <td>P</td>\n",
       "      <td>005</td>\n",
       "      <td>2016</td>\n",
       "      <td>...</td>\n",
       "      <td>NaN</td>\n",
       "      <td>NaN</td>\n",
       "      <td>NaN</td>\n",
       "      <td>NaN</td>\n",
       "      <td>NaN</td>\n",
       "      <td>S</td>\n",
       "      <td>NaN</td>\n",
       "      <td>NaN</td>\n",
       "      <td>NaN</td>\n",
       "      <td>N</td>\n",
       "    </tr>\n",
       "    <tr>\n",
       "      <th>4</th>\n",
       "      <td>63900</td>\n",
       "      <td>PM DE COTIPORÃ</td>\n",
       "      <td>36.0</td>\n",
       "      <td>2016</td>\n",
       "      <td>PRD</td>\n",
       "      <td>NaN</td>\n",
       "      <td>NaN</td>\n",
       "      <td>NaN</td>\n",
       "      <td>344</td>\n",
       "      <td>2016</td>\n",
       "      <td>...</td>\n",
       "      <td>J</td>\n",
       "      <td>9.255424e+12</td>\n",
       "      <td>NaN</td>\n",
       "      <td>NaN</td>\n",
       "      <td>NaN</td>\n",
       "      <td>S</td>\n",
       "      <td>NaN</td>\n",
       "      <td>NaN</td>\n",
       "      <td>NaN</td>\n",
       "      <td>N</td>\n",
       "    </tr>\n",
       "  </tbody>\n",
       "</table>\n",
       "<p>5 rows × 61 columns</p>\n",
       "</div>"
      ],
      "text/plain": [
       "   CD_ORGAO                NM_ORGAO  NR_LICITACAO  ANO_LICITACAO  \\\n",
       "0     84100  PM DE ESPERANÇA DO SUL           1.0           2016   \n",
       "1     84100  PM DE ESPERANÇA DO SUL           4.0           2016   \n",
       "2     82701         CM DE XANGRI-LÁ           1.0           2016   \n",
       "3     84100  PM DE ESPERANÇA DO SUL           6.0           2016   \n",
       "4     63900          PM DE COTIPORÃ          36.0           2016   \n",
       "\n",
       "  CD_TIPO_MODALIDADE  NR_COMISSAO  ANO_COMISSAO TP_COMISSAO NR_PROCESSO  \\\n",
       "0                CNV         12.0        2016.0           P         001   \n",
       "1                CNV         12.0        2016.0           P         003   \n",
       "2                PRP         12.0        2016.0           G          01   \n",
       "3                CNV         12.0        2016.0           P         005   \n",
       "4                PRD          NaN           NaN         NaN         344   \n",
       "\n",
       "   ANO_PROCESSO  ... TP_DOCUMENTO_FORNECEDOR NR_DOCUMENTO_FORNECEDOR  \\\n",
       "0          2016  ...                     NaN                     NaN   \n",
       "1          2016  ...                     NaN                     NaN   \n",
       "2          2016  ...                     NaN                     NaN   \n",
       "3          2016  ...                     NaN                     NaN   \n",
       "4          2016  ...                       J            9.255424e+12   \n",
       "\n",
       "  TP_DOCUMENTO_VENCEDOR NR_DOCUMENTO_VENCEDOR VL_HOMOLOGADO BL_GERA_DESPESA  \\\n",
       "0                     J          6.233397e+12        6420.0               S   \n",
       "1                   NaN                   NaN           NaN               S   \n",
       "2                   NaN                   NaN           NaN               S   \n",
       "3                   NaN                   NaN           NaN               S   \n",
       "4                   NaN                   NaN           NaN               S   \n",
       "\n",
       "  DS_OBSERVACAO PC_TX_ESTIMADA PC_TX_HOMOLOGADA BL_COMPARTILHADA  \n",
       "0           NaN            NaN              NaN                N  \n",
       "1           NaN            NaN              NaN                N  \n",
       "2           NaN            NaN              NaN                N  \n",
       "3           NaN            NaN              NaN                N  \n",
       "4           NaN            NaN              NaN                N  \n",
       "\n",
       "[5 rows x 61 columns]"
      ]
     },
     "execution_count": 58,
     "metadata": {},
     "output_type": "execute_result"
    }
   ],
   "source": [
    "df_licitacao.head()"
   ]
  },
  {
   "cell_type": "code",
   "execution_count": 59,
   "id": "61323f5f",
   "metadata": {},
   "outputs": [
    {
     "data": {
      "text/html": [
       "<div>\n",
       "<style scoped>\n",
       "    .dataframe tbody tr th:only-of-type {\n",
       "        vertical-align: middle;\n",
       "    }\n",
       "\n",
       "    .dataframe tbody tr th {\n",
       "        vertical-align: top;\n",
       "    }\n",
       "\n",
       "    .dataframe thead th {\n",
       "        text-align: right;\n",
       "    }\n",
       "</style>\n",
       "<table border=\"1\" class=\"dataframe\">\n",
       "  <thead>\n",
       "    <tr style=\"text-align: right;\">\n",
       "      <th></th>\n",
       "      <th>CD_ORGAO</th>\n",
       "      <th>NR_LICITACAO</th>\n",
       "      <th>ANO_LICITACAO</th>\n",
       "      <th>CD_TIPO_MODALIDADE</th>\n",
       "      <th>NR_LOTE</th>\n",
       "      <th>NR_ITEM</th>\n",
       "      <th>NR_ITEM_ORIGINAL</th>\n",
       "      <th>DS_ITEM</th>\n",
       "      <th>QT_ITENS</th>\n",
       "      <th>SG_UNIDADE_MEDIDA</th>\n",
       "      <th>...</th>\n",
       "      <th>TP_ORCAMENTO</th>\n",
       "      <th>CD_TIPO_FAMILIA</th>\n",
       "      <th>CD_TIPO_SUBFAMILIA</th>\n",
       "      <th>TP_DOCUMENTO</th>\n",
       "      <th>NR_DOCUMENTO</th>\n",
       "      <th>TP_DOCUMENTO.1</th>\n",
       "      <th>NR_DOCUMENTO.1</th>\n",
       "      <th>TP_BENEFICIO_MICRO_EPP</th>\n",
       "      <th>PC_TX_ESTIMADA</th>\n",
       "      <th>PC_TX_HOMOLOGADA</th>\n",
       "    </tr>\n",
       "  </thead>\n",
       "  <tbody>\n",
       "    <tr>\n",
       "      <th>0</th>\n",
       "      <td>77200</td>\n",
       "      <td>15.0</td>\n",
       "      <td>2016</td>\n",
       "      <td>PRP</td>\n",
       "      <td>1</td>\n",
       "      <td>2</td>\n",
       "      <td>2</td>\n",
       "      <td>Pneu 1000/20 liso radial, dianteiro, 16 lonas,...</td>\n",
       "      <td>10.0</td>\n",
       "      <td>UN</td>\n",
       "      <td>...</td>\n",
       "      <td>M</td>\n",
       "      <td>745.0</td>\n",
       "      <td>632.0</td>\n",
       "      <td>J</td>\n",
       "      <td>8.774832e+12</td>\n",
       "      <td>NaN</td>\n",
       "      <td>NaN</td>\n",
       "      <td>L</td>\n",
       "      <td>NaN</td>\n",
       "      <td>NaN</td>\n",
       "    </tr>\n",
       "    <tr>\n",
       "      <th>1</th>\n",
       "      <td>77200</td>\n",
       "      <td>15.0</td>\n",
       "      <td>2016</td>\n",
       "      <td>PRP</td>\n",
       "      <td>1</td>\n",
       "      <td>4</td>\n",
       "      <td>4</td>\n",
       "      <td>Pneu 12.4x24 garra baixa, 10 lonas</td>\n",
       "      <td>4.0</td>\n",
       "      <td>UN</td>\n",
       "      <td>...</td>\n",
       "      <td>M</td>\n",
       "      <td>745.0</td>\n",
       "      <td>632.0</td>\n",
       "      <td>J</td>\n",
       "      <td>8.774832e+12</td>\n",
       "      <td>NaN</td>\n",
       "      <td>NaN</td>\n",
       "      <td>L</td>\n",
       "      <td>NaN</td>\n",
       "      <td>NaN</td>\n",
       "    </tr>\n",
       "    <tr>\n",
       "      <th>2</th>\n",
       "      <td>77200</td>\n",
       "      <td>15.0</td>\n",
       "      <td>2016</td>\n",
       "      <td>PRP</td>\n",
       "      <td>1</td>\n",
       "      <td>7</td>\n",
       "      <td>7</td>\n",
       "      <td>Pneu 1400x24 mínimo 12 lonas</td>\n",
       "      <td>6.0</td>\n",
       "      <td>UN</td>\n",
       "      <td>...</td>\n",
       "      <td>M</td>\n",
       "      <td>745.0</td>\n",
       "      <td>632.0</td>\n",
       "      <td>J</td>\n",
       "      <td>8.774832e+12</td>\n",
       "      <td>NaN</td>\n",
       "      <td>NaN</td>\n",
       "      <td>L</td>\n",
       "      <td>NaN</td>\n",
       "      <td>NaN</td>\n",
       "    </tr>\n",
       "    <tr>\n",
       "      <th>3</th>\n",
       "      <td>77200</td>\n",
       "      <td>15.0</td>\n",
       "      <td>2016</td>\n",
       "      <td>PRP</td>\n",
       "      <td>1</td>\n",
       "      <td>8</td>\n",
       "      <td>8</td>\n",
       "      <td>Pneu 17.5x25 12 lonas, capacidade mínima de ca...</td>\n",
       "      <td>4.0</td>\n",
       "      <td>UN</td>\n",
       "      <td>...</td>\n",
       "      <td>M</td>\n",
       "      <td>745.0</td>\n",
       "      <td>632.0</td>\n",
       "      <td>J</td>\n",
       "      <td>8.774832e+12</td>\n",
       "      <td>NaN</td>\n",
       "      <td>NaN</td>\n",
       "      <td>L</td>\n",
       "      <td>NaN</td>\n",
       "      <td>NaN</td>\n",
       "    </tr>\n",
       "    <tr>\n",
       "      <th>4</th>\n",
       "      <td>77200</td>\n",
       "      <td>15.0</td>\n",
       "      <td>2016</td>\n",
       "      <td>PRP</td>\n",
       "      <td>1</td>\n",
       "      <td>12</td>\n",
       "      <td>12</td>\n",
       "      <td>Pneu 18.4x30 garra baixa, mínimo 10 lonas</td>\n",
       "      <td>4.0</td>\n",
       "      <td>UN</td>\n",
       "      <td>...</td>\n",
       "      <td>M</td>\n",
       "      <td>745.0</td>\n",
       "      <td>632.0</td>\n",
       "      <td>J</td>\n",
       "      <td>8.774832e+12</td>\n",
       "      <td>NaN</td>\n",
       "      <td>NaN</td>\n",
       "      <td>L</td>\n",
       "      <td>NaN</td>\n",
       "      <td>NaN</td>\n",
       "    </tr>\n",
       "  </tbody>\n",
       "</table>\n",
       "<p>5 rows × 32 columns</p>\n",
       "</div>"
      ],
      "text/plain": [
       "   CD_ORGAO  NR_LICITACAO  ANO_LICITACAO CD_TIPO_MODALIDADE  NR_LOTE  NR_ITEM  \\\n",
       "0     77200          15.0           2016                PRP        1        2   \n",
       "1     77200          15.0           2016                PRP        1        4   \n",
       "2     77200          15.0           2016                PRP        1        7   \n",
       "3     77200          15.0           2016                PRP        1        8   \n",
       "4     77200          15.0           2016                PRP        1       12   \n",
       "\n",
       "  NR_ITEM_ORIGINAL                                            DS_ITEM  \\\n",
       "0                2  Pneu 1000/20 liso radial, dianteiro, 16 lonas,...   \n",
       "1                4                 Pneu 12.4x24 garra baixa, 10 lonas   \n",
       "2                7                       Pneu 1400x24 mínimo 12 lonas   \n",
       "3                8  Pneu 17.5x25 12 lonas, capacidade mínima de ca...   \n",
       "4               12          Pneu 18.4x30 garra baixa, mínimo 10 lonas   \n",
       "\n",
       "   QT_ITENS SG_UNIDADE_MEDIDA  ...  TP_ORCAMENTO  CD_TIPO_FAMILIA  \\\n",
       "0      10.0                UN  ...             M            745.0   \n",
       "1       4.0                UN  ...             M            745.0   \n",
       "2       6.0                UN  ...             M            745.0   \n",
       "3       4.0                UN  ...             M            745.0   \n",
       "4       4.0                UN  ...             M            745.0   \n",
       "\n",
       "  CD_TIPO_SUBFAMILIA  TP_DOCUMENTO  NR_DOCUMENTO TP_DOCUMENTO.1  \\\n",
       "0              632.0             J  8.774832e+12            NaN   \n",
       "1              632.0             J  8.774832e+12            NaN   \n",
       "2              632.0             J  8.774832e+12            NaN   \n",
       "3              632.0             J  8.774832e+12            NaN   \n",
       "4              632.0             J  8.774832e+12            NaN   \n",
       "\n",
       "  NR_DOCUMENTO.1 TP_BENEFICIO_MICRO_EPP  PC_TX_ESTIMADA PC_TX_HOMOLOGADA  \n",
       "0            NaN                      L             NaN              NaN  \n",
       "1            NaN                      L             NaN              NaN  \n",
       "2            NaN                      L             NaN              NaN  \n",
       "3            NaN                      L             NaN              NaN  \n",
       "4            NaN                      L             NaN              NaN  \n",
       "\n",
       "[5 rows x 32 columns]"
      ]
     },
     "execution_count": 59,
     "metadata": {},
     "output_type": "execute_result"
    }
   ],
   "source": [
    "df_itens.head()"
   ]
  },
  {
   "cell_type": "markdown",
   "id": "234a3209",
   "metadata": {},
   "source": [
    "Checagem de valures nulos"
   ]
  },
  {
   "cell_type": "code",
   "execution_count": 15,
   "id": "4e8b081c",
   "metadata": {},
   "outputs": [
    {
     "data": {
      "text/plain": [
       "936552"
      ]
     },
     "execution_count": 15,
     "metadata": {},
     "output_type": "execute_result"
    }
   ],
   "source": [
    "df_licitacao.isna().sum().sum()"
   ]
  },
  {
   "cell_type": "code",
   "execution_count": 60,
   "id": "10e6809c",
   "metadata": {},
   "outputs": [
    {
     "data": {
      "text/plain": [
       "6016964"
      ]
     },
     "execution_count": 60,
     "metadata": {},
     "output_type": "execute_result"
    }
   ],
   "source": [
    "df_itens.isna().sum().sum()"
   ]
  },
  {
   "cell_type": "markdown",
   "id": "bed41db8",
   "metadata": {},
   "source": [
    "Checagem de valores duplicados"
   ]
  },
  {
   "cell_type": "code",
   "execution_count": 17,
   "id": "50250545",
   "metadata": {},
   "outputs": [
    {
     "data": {
      "text/plain": [
       "0"
      ]
     },
     "execution_count": 17,
     "metadata": {},
     "output_type": "execute_result"
    }
   ],
   "source": [
    "df_licitacao.duplicated().sum()"
   ]
  },
  {
   "cell_type": "code",
   "execution_count": 61,
   "id": "419b68e6",
   "metadata": {},
   "outputs": [
    {
     "data": {
      "text/plain": [
       "0"
      ]
     },
     "execution_count": 61,
     "metadata": {},
     "output_type": "execute_result"
    }
   ],
   "source": [
    "df_itens.duplicated().sum()"
   ]
  },
  {
   "cell_type": "code",
   "execution_count": 228,
   "id": "2d102b35",
   "metadata": {},
   "outputs": [],
   "source": [
    "df_licitacao = df_licitacao.query(\"TP_OBJETO == 'COM'\")"
   ]
  },
  {
   "cell_type": "markdown",
   "id": "5217ba28",
   "metadata": {},
   "source": [
    "#### Quais são os principais bens materiais comprados pelos órgãos públicos do Rio Grande do Sul?"
   ]
  },
  {
   "cell_type": "markdown",
   "id": "23636455",
   "metadata": {},
   "source": [
    " 5 itens mais frequentes"
   ]
  },
  {
   "cell_type": "code",
   "execution_count": 229,
   "id": "e8dc4afb",
   "metadata": {},
   "outputs": [
    {
     "data": {
      "text/plain": [
       "MANGUEIRA SILICONE 2.1/2\"    1669\n",
       "MATERIAL                     1417\n",
       ".                             951\n",
       "SERVIÇO                       561\n",
       "CENOURA                       324\n",
       "Name: DS_ITEM, dtype: int64"
      ]
     },
     "execution_count": 229,
     "metadata": {},
     "output_type": "execute_result"
    }
   ],
   "source": [
    "df_itens['DS_ITEM'].value_counts().nlargest(5)"
   ]
  },
  {
   "cell_type": "markdown",
   "id": "3d2b33d5",
   "metadata": {},
   "source": [
    "Item com maiores quantidades"
   ]
  },
  {
   "cell_type": "code",
   "execution_count": 230,
   "id": "1b7ebac5",
   "metadata": {},
   "outputs": [
    {
     "data": {
      "text/plain": [
       "43979000.0"
      ]
     },
     "execution_count": 230,
     "metadata": {},
     "output_type": "execute_result"
    }
   ],
   "source": [
    "df_itens['QT_ITENS'].max()"
   ]
  },
  {
   "cell_type": "code",
   "execution_count": 231,
   "id": "a287057b",
   "metadata": {},
   "outputs": [
    {
     "data": {
      "text/html": [
       "<div>\n",
       "<style scoped>\n",
       "    .dataframe tbody tr th:only-of-type {\n",
       "        vertical-align: middle;\n",
       "    }\n",
       "\n",
       "    .dataframe tbody tr th {\n",
       "        vertical-align: top;\n",
       "    }\n",
       "\n",
       "    .dataframe thead th {\n",
       "        text-align: right;\n",
       "    }\n",
       "</style>\n",
       "<table border=\"1\" class=\"dataframe\">\n",
       "  <thead>\n",
       "    <tr style=\"text-align: right;\">\n",
       "      <th></th>\n",
       "      <th>CD_ORGAO</th>\n",
       "      <th>NR_LICITACAO</th>\n",
       "      <th>ANO_LICITACAO</th>\n",
       "      <th>CD_TIPO_MODALIDADE</th>\n",
       "      <th>NR_LOTE</th>\n",
       "      <th>NR_ITEM</th>\n",
       "      <th>NR_ITEM_ORIGINAL</th>\n",
       "      <th>DS_ITEM</th>\n",
       "      <th>QT_ITENS</th>\n",
       "      <th>SG_UNIDADE_MEDIDA</th>\n",
       "      <th>...</th>\n",
       "      <th>TP_ORCAMENTO</th>\n",
       "      <th>CD_TIPO_FAMILIA</th>\n",
       "      <th>CD_TIPO_SUBFAMILIA</th>\n",
       "      <th>TP_DOCUMENTO</th>\n",
       "      <th>NR_DOCUMENTO</th>\n",
       "      <th>TP_DOCUMENTO.1</th>\n",
       "      <th>NR_DOCUMENTO.1</th>\n",
       "      <th>TP_BENEFICIO_MICRO_EPP</th>\n",
       "      <th>PC_TX_ESTIMADA</th>\n",
       "      <th>PC_TX_HOMOLOGADA</th>\n",
       "    </tr>\n",
       "  </thead>\n",
       "  <tbody>\n",
       "    <tr>\n",
       "      <th>871067</th>\n",
       "      <td>88044</td>\n",
       "      <td>2.0</td>\n",
       "      <td>2017</td>\n",
       "      <td>RPO</td>\n",
       "      <td>1</td>\n",
       "      <td>253</td>\n",
       "      <td>33060253</td>\n",
       "      <td>OMEPRAZOL 20MG CÁPSULA</td>\n",
       "      <td>43979000.0</td>\n",
       "      <td>CAP</td>\n",
       "      <td>...</td>\n",
       "      <td>NaN</td>\n",
       "      <td>NaN</td>\n",
       "      <td>NaN</td>\n",
       "      <td>NaN</td>\n",
       "      <td>NaN</td>\n",
       "      <td>J</td>\n",
       "      <td>5531725000120.0</td>\n",
       "      <td>R</td>\n",
       "      <td>NaN</td>\n",
       "      <td>NaN</td>\n",
       "    </tr>\n",
       "  </tbody>\n",
       "</table>\n",
       "<p>1 rows × 32 columns</p>\n",
       "</div>"
      ],
      "text/plain": [
       "        CD_ORGAO  NR_LICITACAO  ANO_LICITACAO CD_TIPO_MODALIDADE  NR_LOTE  \\\n",
       "871067     88044           2.0           2017                RPO        1   \n",
       "\n",
       "        NR_ITEM NR_ITEM_ORIGINAL                 DS_ITEM    QT_ITENS  \\\n",
       "871067      253         33060253  OMEPRAZOL 20MG CÁPSULA  43979000.0   \n",
       "\n",
       "       SG_UNIDADE_MEDIDA  ...  TP_ORCAMENTO  CD_TIPO_FAMILIA  \\\n",
       "871067               CAP  ...           NaN              NaN   \n",
       "\n",
       "       CD_TIPO_SUBFAMILIA  TP_DOCUMENTO  NR_DOCUMENTO TP_DOCUMENTO.1  \\\n",
       "871067                NaN           NaN           NaN              J   \n",
       "\n",
       "         NR_DOCUMENTO.1 TP_BENEFICIO_MICRO_EPP  PC_TX_ESTIMADA  \\\n",
       "871067  5531725000120.0                      R             NaN   \n",
       "\n",
       "        PC_TX_HOMOLOGADA  \n",
       "871067               NaN  \n",
       "\n",
       "[1 rows x 32 columns]"
      ]
     },
     "execution_count": 231,
     "metadata": {},
     "output_type": "execute_result"
    }
   ],
   "source": [
    "df_itens[df_itens['QT_ITENS'] == df_itens['QT_ITENS'].max()]"
   ]
  },
  {
   "cell_type": "markdown",
   "id": "0107277e",
   "metadata": {},
   "source": [
    "Maior valor unitário de um item"
   ]
  },
  {
   "cell_type": "code",
   "execution_count": 232,
   "id": "1617bcf1",
   "metadata": {},
   "outputs": [
    {
     "data": {
      "text/plain": [
       "71742116.84"
      ]
     },
     "execution_count": 232,
     "metadata": {},
     "output_type": "execute_result"
    }
   ],
   "source": [
    "df_itens['VL_UNITARIO_HOMOLOGADO'].max()"
   ]
  },
  {
   "cell_type": "code",
   "execution_count": 233,
   "id": "6ee78237",
   "metadata": {},
   "outputs": [
    {
     "data": {
      "text/html": [
       "<div>\n",
       "<style scoped>\n",
       "    .dataframe tbody tr th:only-of-type {\n",
       "        vertical-align: middle;\n",
       "    }\n",
       "\n",
       "    .dataframe tbody tr th {\n",
       "        vertical-align: top;\n",
       "    }\n",
       "\n",
       "    .dataframe thead th {\n",
       "        text-align: right;\n",
       "    }\n",
       "</style>\n",
       "<table border=\"1\" class=\"dataframe\">\n",
       "  <thead>\n",
       "    <tr style=\"text-align: right;\">\n",
       "      <th></th>\n",
       "      <th>CD_ORGAO</th>\n",
       "      <th>NR_LICITACAO</th>\n",
       "      <th>ANO_LICITACAO</th>\n",
       "      <th>CD_TIPO_MODALIDADE</th>\n",
       "      <th>NR_LOTE</th>\n",
       "      <th>NR_ITEM</th>\n",
       "      <th>NR_ITEM_ORIGINAL</th>\n",
       "      <th>DS_ITEM</th>\n",
       "      <th>QT_ITENS</th>\n",
       "      <th>SG_UNIDADE_MEDIDA</th>\n",
       "      <th>...</th>\n",
       "      <th>TP_ORCAMENTO</th>\n",
       "      <th>CD_TIPO_FAMILIA</th>\n",
       "      <th>CD_TIPO_SUBFAMILIA</th>\n",
       "      <th>TP_DOCUMENTO</th>\n",
       "      <th>NR_DOCUMENTO</th>\n",
       "      <th>TP_DOCUMENTO.1</th>\n",
       "      <th>NR_DOCUMENTO.1</th>\n",
       "      <th>TP_BENEFICIO_MICRO_EPP</th>\n",
       "      <th>PC_TX_ESTIMADA</th>\n",
       "      <th>PC_TX_HOMOLOGADA</th>\n",
       "    </tr>\n",
       "  </thead>\n",
       "  <tbody>\n",
       "    <tr>\n",
       "      <th>585161</th>\n",
       "      <td>54405</td>\n",
       "      <td>2.0</td>\n",
       "      <td>2017</td>\n",
       "      <td>CNC</td>\n",
       "      <td>1</td>\n",
       "      <td>1</td>\n",
       "      <td>1</td>\n",
       "      <td>Contratação dos serviços de coleta urbana, rur...</td>\n",
       "      <td>1.0</td>\n",
       "      <td>UN</td>\n",
       "      <td>...</td>\n",
       "      <td>NaN</td>\n",
       "      <td>NaN</td>\n",
       "      <td>NaN</td>\n",
       "      <td>J</td>\n",
       "      <td>8354288000104</td>\n",
       "      <td>NaN</td>\n",
       "      <td>NaN</td>\n",
       "      <td>NaN</td>\n",
       "      <td>NaN</td>\n",
       "      <td>NaN</td>\n",
       "    </tr>\n",
       "  </tbody>\n",
       "</table>\n",
       "<p>1 rows × 32 columns</p>\n",
       "</div>"
      ],
      "text/plain": [
       "        CD_ORGAO  NR_LICITACAO  ANO_LICITACAO CD_TIPO_MODALIDADE  NR_LOTE  \\\n",
       "585161     54405           2.0           2017                CNC        1   \n",
       "\n",
       "        NR_ITEM NR_ITEM_ORIGINAL  \\\n",
       "585161        1                1   \n",
       "\n",
       "                                                  DS_ITEM  QT_ITENS  \\\n",
       "585161  Contratação dos serviços de coleta urbana, rur...       1.0   \n",
       "\n",
       "       SG_UNIDADE_MEDIDA  ...  TP_ORCAMENTO  CD_TIPO_FAMILIA  \\\n",
       "585161                UN  ...           NaN              NaN   \n",
       "\n",
       "       CD_TIPO_SUBFAMILIA  TP_DOCUMENTO   NR_DOCUMENTO TP_DOCUMENTO.1  \\\n",
       "585161                NaN             J  8354288000104            NaN   \n",
       "\n",
       "       NR_DOCUMENTO.1 TP_BENEFICIO_MICRO_EPP  PC_TX_ESTIMADA  PC_TX_HOMOLOGADA  \n",
       "585161            NaN                    NaN             NaN               NaN  \n",
       "\n",
       "[1 rows x 32 columns]"
      ]
     },
     "execution_count": 233,
     "metadata": {},
     "output_type": "execute_result"
    }
   ],
   "source": [
    "df_max = df_itens[df_itens['VL_UNITARIO_HOMOLOGADO'] == df_itens['VL_UNITARIO_HOMOLOGADO'].max()]\n",
    "df_max"
   ]
  },
  {
   "cell_type": "markdown",
   "id": "e84b918c",
   "metadata": {},
   "source": [
    "Orgão responsável pelo item de maior valor unitário"
   ]
  },
  {
   "cell_type": "code",
   "execution_count": 234,
   "id": "119f5dc8",
   "metadata": {},
   "outputs": [
    {
     "data": {
      "text/plain": [
       "'SERVIÇO AUTÔN. DE SANEAMENTO DE PELOTAS'"
      ]
     },
     "execution_count": 234,
     "metadata": {},
     "output_type": "execute_result"
    }
   ],
   "source": [
    "id_orgao = df_max['CD_ORGAO'].values[0]\n",
    "df_licitacao[df_licitacao['CD_ORGAO'] == id_orgao]['NM_ORGAO'].values[0]"
   ]
  },
  {
   "cell_type": "markdown",
   "id": "6b173024",
   "metadata": {},
   "source": [
    "#### É possível identificar algum padrão nas compras?"
   ]
  },
  {
   "cell_type": "code",
   "execution_count": 235,
   "id": "14e8ee71",
   "metadata": {},
   "outputs": [],
   "source": [
    "df_licitacao_month = pd.DataFrame(df_licitacao['DT_ABERTURA'].value_counts())\n",
    "df_licitacao_month = df_licitacao_month[(df_licitacao_month.index > f'{ANO}-01-01') & (df_licitacao_month.index <= f'{ANO}-12-31')]\n",
    "#df_licitacao_month =  df_licitacao_month.resample('M').sum()"
   ]
  },
  {
   "cell_type": "code",
   "execution_count": 236,
   "id": "9c69b91f",
   "metadata": {},
   "outputs": [
    {
     "data": {
      "text/plain": [
       "Text(0, 0.5, 'Quantidade de licitações')"
      ]
     },
     "execution_count": 236,
     "metadata": {},
     "output_type": "execute_result"
    },
    {
     "data": {
      "image/png": "[encoded data removed]",
      "text/plain": [
       "<Figure size 640x480 with 1 Axes>"
      ]
     },
     "metadata": {},
     "output_type": "display_data"
    }
   ],
   "source": [
    "df_licitacao_month.index = pd.to_datetime(df_licitacao_month.index)\n",
    "df_licitacao_month = df_licitacao_month.assign(Date=df_licitacao_month.index).resample('M').sum()\n",
    "ax = df_licitacao_month.reset_index().plot(x='index',y='DT_ABERTURA')\n",
    "ax.get_legend().remove()\n",
    "ax.set_xlabel(\"Data de abertura\")\n",
    "ax.set_ylabel(\"Quantidade de licitações\")"
   ]
  },
  {
   "cell_type": "markdown",
   "id": "b345741d",
   "metadata": {},
   "source": [
    "Ao mudar o ano das licitações pode-se observar certa tendência de crescimento no número de licitações durante os meses que correspondem a metade do ano."
   ]
  },
  {
   "cell_type": "code",
   "execution_count": 237,
   "id": "3bfea519",
   "metadata": {},
   "outputs": [
    {
     "data": {
      "text/plain": [
       "Text(0, 0.5, 'Quantidade de licitações')"
      ]
     },
     "execution_count": 237,
     "metadata": {},
     "output_type": "execute_result"
    },
    {
     "data": {
      "image/png": "[encoded data removed]",
      "text/plain": [
       "<Figure size 640x480 with 1 Axes>"
      ]
     },
     "metadata": {},
     "output_type": "display_data"
    }
   ],
   "source": [
    "df_licitacao_orgao = pd.DataFrame(df_licitacao['NM_ORGAO'].value_counts())\n",
    "ax = df_licitacao_orgao[:10].reset_index().plot.bar(x='index',y='NM_ORGAO')\n",
    "ax.get_legend().remove()\n",
    "ax.set_xlabel(\"Orgão\")\n",
    "ax.set_ylabel(\"Quantidade de licitações\")"
   ]
  },
  {
   "cell_type": "code",
   "execution_count": null,
   "id": "a48cf9ca",
   "metadata": {},
   "outputs": [],
   "source": []
  },
  {
   "cell_type": "markdown",
   "id": "970f7372",
   "metadata": {},
   "source": []
  },
  {
   "cell_type": "markdown",
   "id": "62e1aede",
   "metadata": {},
   "source": [
    "### Hipótese 1: O número de licitações cresce com o passar dos anos"
   ]
  },
  {
   "cell_type": "code",
   "execution_count": 4,
   "id": "039c9e7b",
   "metadata": {},
   "outputs": [],
   "source": [
    "df_2016 = pd.read_csv('2016.csv/licitacao.csv',low_memory=False)\n",
    "df_2017 = pd.read_csv('2017.csv/licitacao.csv',low_memory=False)\n",
    "df_2018 = pd.read_csv('2018.csv/licitacao.csv',low_memory=False)\n",
    "df_2016 = df_2016.query(\"TP_OBJETO == 'COM'\")\n",
    "df_2017 = df_2017.query(\"TP_OBJETO == 'COM'\")\n",
    "df_2018 = df_2018.query(\"TP_OBJETO == 'COM'\")"
   ]
  },
  {
   "cell_type": "code",
   "execution_count": 5,
   "id": "809f4537",
   "metadata": {},
   "outputs": [
    {
     "data": {
      "text/plain": [
       "True"
      ]
     },
     "execution_count": 5,
     "metadata": {},
     "output_type": "execute_result"
    }
   ],
   "source": [
    "# Cada linha do arquivo licitacao.csv representa uma licitação.\n",
    "df_2018.shape[0] > df_2017.shape[0] >  df_2016.shape[0]"
   ]
  },
  {
   "cell_type": "markdown",
   "id": "b952f9b4",
   "metadata": {},
   "source": [
    "###### Hipótese 1 é verdadeira"
   ]
  },
  {
   "cell_type": "markdown",
   "id": "319797ad",
   "metadata": {},
   "source": [
    "### Hipótese 2: Supondo que os itens que se referem a medicamentos contém mg na descrição"
   ]
  },
  {
   "cell_type": "code",
   "execution_count": 246,
   "id": "07815dde",
   "metadata": {},
   "outputs": [
    {
     "data": {
      "text/html": [
       "<div>\n",
       "<style scoped>\n",
       "    .dataframe tbody tr th:only-of-type {\n",
       "        vertical-align: middle;\n",
       "    }\n",
       "\n",
       "    .dataframe tbody tr th {\n",
       "        vertical-align: top;\n",
       "    }\n",
       "\n",
       "    .dataframe thead th {\n",
       "        text-align: right;\n",
       "    }\n",
       "</style>\n",
       "<table border=\"1\" class=\"dataframe\">\n",
       "  <thead>\n",
       "    <tr style=\"text-align: right;\">\n",
       "      <th></th>\n",
       "      <th>CD_ORGAO</th>\n",
       "      <th>NR_LICITACAO</th>\n",
       "      <th>ANO_LICITACAO</th>\n",
       "      <th>CD_TIPO_MODALIDADE</th>\n",
       "      <th>NR_LOTE</th>\n",
       "      <th>NR_ITEM</th>\n",
       "      <th>NR_ITEM_ORIGINAL</th>\n",
       "      <th>DS_ITEM</th>\n",
       "      <th>QT_ITENS</th>\n",
       "      <th>SG_UNIDADE_MEDIDA</th>\n",
       "      <th>...</th>\n",
       "      <th>TP_ORCAMENTO</th>\n",
       "      <th>CD_TIPO_FAMILIA</th>\n",
       "      <th>CD_TIPO_SUBFAMILIA</th>\n",
       "      <th>TP_DOCUMENTO</th>\n",
       "      <th>NR_DOCUMENTO</th>\n",
       "      <th>TP_DOCUMENTO.1</th>\n",
       "      <th>NR_DOCUMENTO.1</th>\n",
       "      <th>TP_BENEFICIO_MICRO_EPP</th>\n",
       "      <th>PC_TX_ESTIMADA</th>\n",
       "      <th>PC_TX_HOMOLOGADA</th>\n",
       "    </tr>\n",
       "  </thead>\n",
       "  <tbody>\n",
       "    <tr>\n",
       "      <th>165</th>\n",
       "      <td>45003</td>\n",
       "      <td>79.0</td>\n",
       "      <td>2017</td>\n",
       "      <td>PRP</td>\n",
       "      <td>1</td>\n",
       "      <td>1</td>\n",
       "      <td>1</td>\n",
       "      <td>Cod..9156- Larvicida biológico BTI(Bacillus th...</td>\n",
       "      <td>3000.0</td>\n",
       "      <td>KG</td>\n",
       "      <td>...</td>\n",
       "      <td>NaN</td>\n",
       "      <td>NaN</td>\n",
       "      <td>NaN</td>\n",
       "      <td>J</td>\n",
       "      <td>68833227000151</td>\n",
       "      <td>NaN</td>\n",
       "      <td>NaN</td>\n",
       "      <td>NaN</td>\n",
       "      <td>NaN</td>\n",
       "      <td>NaN</td>\n",
       "    </tr>\n",
       "    <tr>\n",
       "      <th>693</th>\n",
       "      <td>53100</td>\n",
       "      <td>5.0</td>\n",
       "      <td>2017</td>\n",
       "      <td>PRP</td>\n",
       "      <td>1</td>\n",
       "      <td>131</td>\n",
       "      <td>131</td>\n",
       "      <td>VALPROATO DE SÓDIO Cp 576mg ( equivalente a 50...</td>\n",
       "      <td>17000.0</td>\n",
       "      <td>CAP</td>\n",
       "      <td>...</td>\n",
       "      <td>NaN</td>\n",
       "      <td>NaN</td>\n",
       "      <td>NaN</td>\n",
       "      <td>J</td>\n",
       "      <td>5782733000149</td>\n",
       "      <td>NaN</td>\n",
       "      <td>NaN</td>\n",
       "      <td>T</td>\n",
       "      <td>NaN</td>\n",
       "      <td>NaN</td>\n",
       "    </tr>\n",
       "    <tr>\n",
       "      <th>694</th>\n",
       "      <td>53100</td>\n",
       "      <td>5.0</td>\n",
       "      <td>2017</td>\n",
       "      <td>PRP</td>\n",
       "      <td>1</td>\n",
       "      <td>130</td>\n",
       "      <td>130</td>\n",
       "      <td>VALPROATO DE SÓDIO OU ÁCIDO VALPROICO  Cp 288m...</td>\n",
       "      <td>7000.0</td>\n",
       "      <td>CAP</td>\n",
       "      <td>...</td>\n",
       "      <td>NaN</td>\n",
       "      <td>NaN</td>\n",
       "      <td>NaN</td>\n",
       "      <td>J</td>\n",
       "      <td>5782733000149</td>\n",
       "      <td>NaN</td>\n",
       "      <td>NaN</td>\n",
       "      <td>T</td>\n",
       "      <td>NaN</td>\n",
       "      <td>NaN</td>\n",
       "    </tr>\n",
       "    <tr>\n",
       "      <th>695</th>\n",
       "      <td>53100</td>\n",
       "      <td>5.0</td>\n",
       "      <td>2017</td>\n",
       "      <td>PRP</td>\n",
       "      <td>1</td>\n",
       "      <td>59</td>\n",
       "      <td>59</td>\n",
       "      <td>FINASTERIDA Cp 5mg</td>\n",
       "      <td>6000.0</td>\n",
       "      <td>COM</td>\n",
       "      <td>...</td>\n",
       "      <td>NaN</td>\n",
       "      <td>NaN</td>\n",
       "      <td>NaN</td>\n",
       "      <td>J</td>\n",
       "      <td>5782733000149</td>\n",
       "      <td>NaN</td>\n",
       "      <td>NaN</td>\n",
       "      <td>T</td>\n",
       "      <td>NaN</td>\n",
       "      <td>NaN</td>\n",
       "    </tr>\n",
       "    <tr>\n",
       "      <th>696</th>\n",
       "      <td>53100</td>\n",
       "      <td>5.0</td>\n",
       "      <td>2017</td>\n",
       "      <td>PRP</td>\n",
       "      <td>1</td>\n",
       "      <td>31</td>\n",
       "      <td>31</td>\n",
       "      <td>CARVEDILOL Cp 25mg</td>\n",
       "      <td>7500.0</td>\n",
       "      <td>COM</td>\n",
       "      <td>...</td>\n",
       "      <td>NaN</td>\n",
       "      <td>NaN</td>\n",
       "      <td>NaN</td>\n",
       "      <td>J</td>\n",
       "      <td>5782733000149</td>\n",
       "      <td>NaN</td>\n",
       "      <td>NaN</td>\n",
       "      <td>T</td>\n",
       "      <td>NaN</td>\n",
       "      <td>NaN</td>\n",
       "    </tr>\n",
       "    <tr>\n",
       "      <th>...</th>\n",
       "      <td>...</td>\n",
       "      <td>...</td>\n",
       "      <td>...</td>\n",
       "      <td>...</td>\n",
       "      <td>...</td>\n",
       "      <td>...</td>\n",
       "      <td>...</td>\n",
       "      <td>...</td>\n",
       "      <td>...</td>\n",
       "      <td>...</td>\n",
       "      <td>...</td>\n",
       "      <td>...</td>\n",
       "      <td>...</td>\n",
       "      <td>...</td>\n",
       "      <td>...</td>\n",
       "      <td>...</td>\n",
       "      <td>...</td>\n",
       "      <td>...</td>\n",
       "      <td>...</td>\n",
       "      <td>...</td>\n",
       "      <td>...</td>\n",
       "    </tr>\n",
       "    <tr>\n",
       "      <th>902704</th>\n",
       "      <td>78200</td>\n",
       "      <td>17.0</td>\n",
       "      <td>2017</td>\n",
       "      <td>PRE</td>\n",
       "      <td>1</td>\n",
       "      <td>43</td>\n",
       "      <td>43</td>\n",
       "      <td>hidroclorotiazida 25mg</td>\n",
       "      <td>350000.0</td>\n",
       "      <td>COM</td>\n",
       "      <td>...</td>\n",
       "      <td>NaN</td>\n",
       "      <td>NaN</td>\n",
       "      <td>NaN</td>\n",
       "      <td>J</td>\n",
       "      <td>2520829000140</td>\n",
       "      <td>NaN</td>\n",
       "      <td>NaN</td>\n",
       "      <td>T</td>\n",
       "      <td>NaN</td>\n",
       "      <td>NaN</td>\n",
       "    </tr>\n",
       "    <tr>\n",
       "      <th>902706</th>\n",
       "      <td>78200</td>\n",
       "      <td>17.0</td>\n",
       "      <td>2017</td>\n",
       "      <td>PRE</td>\n",
       "      <td>1</td>\n",
       "      <td>56</td>\n",
       "      <td>56</td>\n",
       "      <td>medroxiprogesterona (acetato) 150 mg</td>\n",
       "      <td>1500.0</td>\n",
       "      <td>UN</td>\n",
       "      <td>...</td>\n",
       "      <td>NaN</td>\n",
       "      <td>NaN</td>\n",
       "      <td>NaN</td>\n",
       "      <td>J</td>\n",
       "      <td>2520829000140</td>\n",
       "      <td>NaN</td>\n",
       "      <td>NaN</td>\n",
       "      <td>T</td>\n",
       "      <td>NaN</td>\n",
       "      <td>NaN</td>\n",
       "    </tr>\n",
       "    <tr>\n",
       "      <th>902707</th>\n",
       "      <td>78200</td>\n",
       "      <td>17.0</td>\n",
       "      <td>2017</td>\n",
       "      <td>PRE</td>\n",
       "      <td>1</td>\n",
       "      <td>20</td>\n",
       "      <td>20</td>\n",
       "      <td>captopril 25mg</td>\n",
       "      <td>750000.0</td>\n",
       "      <td>COM</td>\n",
       "      <td>...</td>\n",
       "      <td>NaN</td>\n",
       "      <td>NaN</td>\n",
       "      <td>NaN</td>\n",
       "      <td>J</td>\n",
       "      <td>2520829000140</td>\n",
       "      <td>NaN</td>\n",
       "      <td>NaN</td>\n",
       "      <td>T</td>\n",
       "      <td>NaN</td>\n",
       "      <td>NaN</td>\n",
       "    </tr>\n",
       "    <tr>\n",
       "      <th>902708</th>\n",
       "      <td>78200</td>\n",
       "      <td>17.0</td>\n",
       "      <td>2017</td>\n",
       "      <td>PRE</td>\n",
       "      <td>1</td>\n",
       "      <td>26</td>\n",
       "      <td>26</td>\n",
       "      <td>ciprofloxacino 500mg comprimido fracionável, e...</td>\n",
       "      <td>20000.0</td>\n",
       "      <td>COM</td>\n",
       "      <td>...</td>\n",
       "      <td>NaN</td>\n",
       "      <td>NaN</td>\n",
       "      <td>NaN</td>\n",
       "      <td>J</td>\n",
       "      <td>2520829000140</td>\n",
       "      <td>NaN</td>\n",
       "      <td>NaN</td>\n",
       "      <td>T</td>\n",
       "      <td>NaN</td>\n",
       "      <td>NaN</td>\n",
       "    </tr>\n",
       "    <tr>\n",
       "      <th>902709</th>\n",
       "      <td>78200</td>\n",
       "      <td>17.0</td>\n",
       "      <td>2017</td>\n",
       "      <td>PRE</td>\n",
       "      <td>1</td>\n",
       "      <td>58</td>\n",
       "      <td>58</td>\n",
       "      <td>metformina 850mg</td>\n",
       "      <td>350000.0</td>\n",
       "      <td>COM</td>\n",
       "      <td>...</td>\n",
       "      <td>NaN</td>\n",
       "      <td>NaN</td>\n",
       "      <td>NaN</td>\n",
       "      <td>J</td>\n",
       "      <td>2520829000140</td>\n",
       "      <td>NaN</td>\n",
       "      <td>NaN</td>\n",
       "      <td>T</td>\n",
       "      <td>NaN</td>\n",
       "      <td>NaN</td>\n",
       "    </tr>\n",
       "  </tbody>\n",
       "</table>\n",
       "<p>32964 rows × 32 columns</p>\n",
       "</div>"
      ],
      "text/plain": [
       "        CD_ORGAO  NR_LICITACAO  ANO_LICITACAO CD_TIPO_MODALIDADE  NR_LOTE  \\\n",
       "165        45003          79.0           2017                PRP        1   \n",
       "693        53100           5.0           2017                PRP        1   \n",
       "694        53100           5.0           2017                PRP        1   \n",
       "695        53100           5.0           2017                PRP        1   \n",
       "696        53100           5.0           2017                PRP        1   \n",
       "...          ...           ...            ...                ...      ...   \n",
       "902704     78200          17.0           2017                PRE        1   \n",
       "902706     78200          17.0           2017                PRE        1   \n",
       "902707     78200          17.0           2017                PRE        1   \n",
       "902708     78200          17.0           2017                PRE        1   \n",
       "902709     78200          17.0           2017                PRE        1   \n",
       "\n",
       "        NR_ITEM NR_ITEM_ORIGINAL  \\\n",
       "165           1                1   \n",
       "693         131              131   \n",
       "694         130              130   \n",
       "695          59               59   \n",
       "696          31               31   \n",
       "...         ...              ...   \n",
       "902704       43               43   \n",
       "902706       56               56   \n",
       "902707       20               20   \n",
       "902708       26               26   \n",
       "902709       58               58   \n",
       "\n",
       "                                                  DS_ITEM  QT_ITENS  \\\n",
       "165     Cod..9156- Larvicida biológico BTI(Bacillus th...    3000.0   \n",
       "693     VALPROATO DE SÓDIO Cp 576mg ( equivalente a 50...   17000.0   \n",
       "694     VALPROATO DE SÓDIO OU ÁCIDO VALPROICO  Cp 288m...    7000.0   \n",
       "695                                    FINASTERIDA Cp 5mg    6000.0   \n",
       "696                                    CARVEDILOL Cp 25mg    7500.0   \n",
       "...                                                   ...       ...   \n",
       "902704                           hidroclorotiazida 25mg    350000.0   \n",
       "902706               medroxiprogesterona (acetato) 150 mg    1500.0   \n",
       "902707                                    captopril 25mg   750000.0   \n",
       "902708  ciprofloxacino 500mg comprimido fracionável, e...   20000.0   \n",
       "902709                                 metformina 850mg    350000.0   \n",
       "\n",
       "       SG_UNIDADE_MEDIDA  ...  TP_ORCAMENTO  CD_TIPO_FAMILIA  \\\n",
       "165                   KG  ...           NaN              NaN   \n",
       "693                  CAP  ...           NaN              NaN   \n",
       "694                  CAP  ...           NaN              NaN   \n",
       "695                  COM  ...           NaN              NaN   \n",
       "696                  COM  ...           NaN              NaN   \n",
       "...                  ...  ...           ...              ...   \n",
       "902704               COM  ...           NaN              NaN   \n",
       "902706                UN  ...           NaN              NaN   \n",
       "902707               COM  ...           NaN              NaN   \n",
       "902708               COM  ...           NaN              NaN   \n",
       "902709               COM  ...           NaN              NaN   \n",
       "\n",
       "       CD_TIPO_SUBFAMILIA  TP_DOCUMENTO    NR_DOCUMENTO TP_DOCUMENTO.1  \\\n",
       "165                   NaN             J  68833227000151            NaN   \n",
       "693                   NaN             J   5782733000149            NaN   \n",
       "694                   NaN             J   5782733000149            NaN   \n",
       "695                   NaN             J   5782733000149            NaN   \n",
       "696                   NaN             J   5782733000149            NaN   \n",
       "...                   ...           ...             ...            ...   \n",
       "902704                NaN             J   2520829000140            NaN   \n",
       "902706                NaN             J   2520829000140            NaN   \n",
       "902707                NaN             J   2520829000140            NaN   \n",
       "902708                NaN             J   2520829000140            NaN   \n",
       "902709                NaN             J   2520829000140            NaN   \n",
       "\n",
       "       NR_DOCUMENTO.1 TP_BENEFICIO_MICRO_EPP  PC_TX_ESTIMADA  PC_TX_HOMOLOGADA  \n",
       "165               NaN                    NaN             NaN               NaN  \n",
       "693               NaN                      T             NaN               NaN  \n",
       "694               NaN                      T             NaN               NaN  \n",
       "695               NaN                      T             NaN               NaN  \n",
       "696               NaN                      T             NaN               NaN  \n",
       "...               ...                    ...             ...               ...  \n",
       "902704            NaN                      T             NaN               NaN  \n",
       "902706            NaN                      T             NaN               NaN  \n",
       "902707            NaN                      T             NaN               NaN  \n",
       "902708            NaN                      T             NaN               NaN  \n",
       "902709            NaN                      T             NaN               NaN  \n",
       "\n",
       "[32964 rows x 32 columns]"
      ]
     },
     "execution_count": 246,
     "metadata": {},
     "output_type": "execute_result"
    }
   ],
   "source": [
    "df_med = df_itens.query(\"DS_ITEM.str.contains('mg')\", engine='python')\n",
    "df_med"
   ]
  },
  {
   "cell_type": "markdown",
   "id": "47dfc86c",
   "metadata": {},
   "source": [
    "5 medicamentos mais frequentes"
   ]
  },
  {
   "cell_type": "code",
   "execution_count": 247,
   "id": "55988de7",
   "metadata": {},
   "outputs": [
    {
     "data": {
      "text/plain": [
       "Omeprazol 20mg     57\n",
       "Prednisona 5mg     50\n",
       "Prednisona 20mg    46\n",
       "Loratadina 10mg    46\n",
       "Atenolol 50mg      45\n",
       "Name: DS_ITEM, dtype: int64"
      ]
     },
     "execution_count": 247,
     "metadata": {},
     "output_type": "execute_result"
    }
   ],
   "source": [
    "df_med['DS_ITEM'].value_counts().nlargest(5)"
   ]
  },
  {
   "cell_type": "markdown",
   "id": "bee94a24",
   "metadata": {},
   "source": [
    "Medicamento comprado em maior quantidade"
   ]
  },
  {
   "cell_type": "code",
   "execution_count": 249,
   "id": "55d47f94",
   "metadata": {},
   "outputs": [
    {
     "data": {
      "text/html": [
       "<div>\n",
       "<style scoped>\n",
       "    .dataframe tbody tr th:only-of-type {\n",
       "        vertical-align: middle;\n",
       "    }\n",
       "\n",
       "    .dataframe tbody tr th {\n",
       "        vertical-align: top;\n",
       "    }\n",
       "\n",
       "    .dataframe thead th {\n",
       "        text-align: right;\n",
       "    }\n",
       "</style>\n",
       "<table border=\"1\" class=\"dataframe\">\n",
       "  <thead>\n",
       "    <tr style=\"text-align: right;\">\n",
       "      <th></th>\n",
       "      <th>CD_ORGAO</th>\n",
       "      <th>NR_LICITACAO</th>\n",
       "      <th>ANO_LICITACAO</th>\n",
       "      <th>CD_TIPO_MODALIDADE</th>\n",
       "      <th>NR_LOTE</th>\n",
       "      <th>NR_ITEM</th>\n",
       "      <th>NR_ITEM_ORIGINAL</th>\n",
       "      <th>DS_ITEM</th>\n",
       "      <th>QT_ITENS</th>\n",
       "      <th>SG_UNIDADE_MEDIDA</th>\n",
       "      <th>...</th>\n",
       "      <th>TP_ORCAMENTO</th>\n",
       "      <th>CD_TIPO_FAMILIA</th>\n",
       "      <th>CD_TIPO_SUBFAMILIA</th>\n",
       "      <th>TP_DOCUMENTO</th>\n",
       "      <th>NR_DOCUMENTO</th>\n",
       "      <th>TP_DOCUMENTO.1</th>\n",
       "      <th>NR_DOCUMENTO.1</th>\n",
       "      <th>TP_BENEFICIO_MICRO_EPP</th>\n",
       "      <th>PC_TX_ESTIMADA</th>\n",
       "      <th>PC_TX_HOMOLOGADA</th>\n",
       "    </tr>\n",
       "  </thead>\n",
       "  <tbody>\n",
       "    <tr>\n",
       "      <th>590306</th>\n",
       "      <td>88109</td>\n",
       "      <td>1.0</td>\n",
       "      <td>2017</td>\n",
       "      <td>PRE</td>\n",
       "      <td>1</td>\n",
       "      <td>114</td>\n",
       "      <td>114</td>\n",
       "      <td>Omeprazol 20mg -</td>\n",
       "      <td>12580428.0</td>\n",
       "      <td>COM</td>\n",
       "      <td>...</td>\n",
       "      <td>NaN</td>\n",
       "      <td>NaN</td>\n",
       "      <td>NaN</td>\n",
       "      <td>J</td>\n",
       "      <td>5531725000120</td>\n",
       "      <td>NaN</td>\n",
       "      <td>NaN</td>\n",
       "      <td>T</td>\n",
       "      <td>NaN</td>\n",
       "      <td>NaN</td>\n",
       "    </tr>\n",
       "  </tbody>\n",
       "</table>\n",
       "<p>1 rows × 32 columns</p>\n",
       "</div>"
      ],
      "text/plain": [
       "        CD_ORGAO  NR_LICITACAO  ANO_LICITACAO CD_TIPO_MODALIDADE  NR_LOTE  \\\n",
       "590306     88109           1.0           2017                PRE        1   \n",
       "\n",
       "        NR_ITEM NR_ITEM_ORIGINAL            DS_ITEM    QT_ITENS  \\\n",
       "590306      114              114  Omeprazol 20mg -   12580428.0   \n",
       "\n",
       "       SG_UNIDADE_MEDIDA  ...  TP_ORCAMENTO  CD_TIPO_FAMILIA  \\\n",
       "590306               COM  ...           NaN              NaN   \n",
       "\n",
       "       CD_TIPO_SUBFAMILIA  TP_DOCUMENTO   NR_DOCUMENTO TP_DOCUMENTO.1  \\\n",
       "590306                NaN             J  5531725000120            NaN   \n",
       "\n",
       "       NR_DOCUMENTO.1 TP_BENEFICIO_MICRO_EPP  PC_TX_ESTIMADA  PC_TX_HOMOLOGADA  \n",
       "590306            NaN                      T             NaN               NaN  \n",
       "\n",
       "[1 rows x 32 columns]"
      ]
     },
     "execution_count": 249,
     "metadata": {},
     "output_type": "execute_result"
    }
   ],
   "source": [
    "df_med[df_med['QT_ITENS'] == df_med['QT_ITENS'].max()]"
   ]
  },
  {
   "cell_type": "markdown",
   "id": "79fb325a",
   "metadata": {},
   "source": [
    "### Hipótese 3:  A PM é o orgão com mais pedidos de licitação"
   ]
  },
  {
   "cell_type": "code",
   "execution_count": 266,
   "id": "5beaa5a1",
   "metadata": {},
   "outputs": [
    {
     "name": "stdout",
     "output_type": "stream",
     "text": [
      "PM foi responsável por 89.04% das licitações de 2016\n"
     ]
    }
   ],
   "source": [
    "df_pm = df_2016.query(\"NM_ORGAO.str.contains('PM')\", engine='python')\n",
    "taxa = (df_pm.shape[0]/df_2016.shape[0])*100\n",
    "print(f'PM foi responsável por {round(taxa,2)}% das licitações de 2016')"
   ]
  },
  {
   "cell_type": "code",
   "execution_count": 267,
   "id": "fec32ccc",
   "metadata": {},
   "outputs": [
    {
     "name": "stdout",
     "output_type": "stream",
     "text": [
      "PM foi responsável por 89.85% das licitações de 2017\n"
     ]
    }
   ],
   "source": [
    "df_pm = df_2017.query(\"NM_ORGAO.str.contains('PM')\", engine='python')\n",
    "taxa = (df_pm.shape[0]/df_2017.shape[0])*100\n",
    "print(f'PM foi responsável por {round(taxa,2)}% das licitações de 2017')"
   ]
  },
  {
   "cell_type": "code",
   "execution_count": 268,
   "id": "734237dd",
   "metadata": {},
   "outputs": [
    {
     "name": "stdout",
     "output_type": "stream",
     "text": [
      "PM foi responsável por 81.0% das licitações de 2018\n"
     ]
    }
   ],
   "source": [
    "df_pm = df_2018.query(\"NM_ORGAO.str.contains('PM')\", engine='python')\n",
    "taxa = (df_pm.shape[0]/df_2018.shape[0])*100\n",
    "print(f'PM foi responsável por {round(taxa,2)}% das licitações de 2018')"
   ]
  },
  {
   "cell_type": "markdown",
   "id": "136c4da6",
   "metadata": {},
   "source": [
    "#### Hipótese 3 é verdadeira"
   ]
  },
  {
   "cell_type": "code",
   "execution_count": null,
   "id": "3954a177",
   "metadata": {},
   "outputs": [],
   "source": []
  },
  {
   "cell_type": "code",
   "execution_count": null,
   "id": "fe12cb39",
   "metadata": {},
   "outputs": [],
   "source": []
  }
 ],
 "metadata": {
  "kernelspec": {
   "display_name": "Python 3 (ipykernel)",
   "language": "python",
   "name": "python3"
  },
  "language_info": {
   "codemirror_mode": {
    "name": "ipython",
    "version": 3
   },
   "file_extension": ".py",
   "mimetype": "text/x-python",
   "name": "python",
   "nbconvert_exporter": "python",
   "pygments_lexer": "ipython3",
   "version": "3.7.15"
  }
 },
 "nbformat": 4,
 "nbformat_minor": 5
}
